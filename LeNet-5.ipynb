{
 "metadata": {
  "language_info": {
   "codemirror_mode": {
    "name": "ipython",
    "version": 3
   },
   "file_extension": ".py",
   "mimetype": "text/x-python",
   "name": "python",
   "nbconvert_exporter": "python",
   "pygments_lexer": "ipython3",
   "version": "3.7.9"
  },
  "orig_nbformat": 4,
  "kernelspec": {
   "name": "python3",
   "display_name": "Python 3.7.9 64-bit"
  },
  "interpreter": {
   "hash": "b6fc13361acf0b12431fe9017a645ee74a85b2a4555870e539f150a62ab2ea00"
  }
 },
 "nbformat": 4,
 "nbformat_minor": 2,
 "cells": [
  {
   "cell_type": "code",
   "execution_count": 12,
   "metadata": {},
   "outputs": [],
   "source": [
    "import os\n",
    "import torch\n",
    "import torchvision\n",
    "from torch import nn\n",
    "from torchvision import datasets, transforms\n",
    "\n",
    "import matplotlib.pyplot as plt\n",
    "import numpy as np"
   ]
  },
  {
   "cell_type": "code",
   "execution_count": 13,
   "metadata": {},
   "outputs": [
    {
     "output_type": "stream",
     "name": "stdout",
     "text": [
      "Using cuda device\n"
     ]
    }
   ],
   "source": [
    "device = 'cuda' if torch.cuda.is_available() else 'cpu'\n",
    "print('Using {} device'.format(device))"
   ]
  },
  {
   "cell_type": "code",
   "execution_count": 94,
   "metadata": {},
   "outputs": [],
   "source": [
    "transform = transforms.Compose(\n",
    "    [\n",
    "        transforms.Resize(32),\n",
    "        transforms.ToTensor(),\n",
    "    ]\n",
    ")\n",
    "\n",
    "batch_size = 5\n",
    "\n",
    "trainset = datasets.MNIST(root='./data', train=True, download=True, transform=transform)\n",
    "trainloader = torch.utils.data.DataLoader(trainset, batch_size=batch_size, shuffle=True, num_workers=2)\n",
    "\n",
    "testset = datasets.MNIST(root='./data', train=False, download=True, transform=transform)\n",
    "testloader = torch.utils.data.DataLoader(testset, batch_size=batch_size, shuffle=False, num_workers=2)"
   ]
  },
  {
   "cell_type": "code",
   "execution_count": 95,
   "metadata": {},
   "outputs": [],
   "source": [
    "def imshow(img):\n",
    "    img = img / 2 + 0.5\n",
    "    npimg = img.numpy()\n",
    "    plt.imshow(np.transpose(npimg, (1, 2, 0)))\n",
    "    plt.show()"
   ]
  },
  {
   "cell_type": "code",
   "execution_count": 96,
   "metadata": {},
   "outputs": [
    {
     "output_type": "display_data",
     "data": {
      "text/plain": "<Figure size 432x288 with 1 Axes>",
      "image/svg+xml": "<?xml version=\"1.0\" encoding=\"utf-8\" standalone=\"no\"?>\r\n<!DOCTYPE svg PUBLIC \"-//W3C//DTD SVG 1.1//EN\"\r\n  \"http://www.w3.org/Graphics/SVG/1.1/DTD/svg11.dtd\">\r\n<svg height=\"103.978507pt\" version=\"1.1\" viewBox=\"0 0 368.925 103.978507\" width=\"368.925pt\" xmlns=\"http://www.w3.org/2000/svg\" xmlns:xlink=\"http://www.w3.org/1999/xlink\">\r\n <metadata>\r\n  <rdf:RDF xmlns:cc=\"http://creativecommons.org/ns#\" xmlns:dc=\"http://purl.org/dc/elements/1.1/\" xmlns:rdf=\"http://www.w3.org/1999/02/22-rdf-syntax-ns#\">\r\n   <cc:Work>\r\n    <dc:type rdf:resource=\"http://purl.org/dc/dcmitype/StillImage\"/>\r\n    <dc:date>2021-06-30T03:12:22.057507</dc:date>\r\n    <dc:format>image/svg+xml</dc:format>\r\n    <dc:creator>\r\n     <cc:Agent>\r\n      <dc:title>Matplotlib v3.4.2, https://matplotlib.org/</dc:title>\r\n     </cc:Agent>\r\n    </dc:creator>\r\n   </cc:Work>\r\n  </rdf:RDF>\r\n </metadata>\r\n <defs>\r\n  <style type=\"text/css\">*{stroke-linecap:butt;stroke-linejoin:round;}</style>\r\n </defs>\r\n <g id=\"figure_1\">\r\n  <g id=\"patch_1\">\r\n   <path d=\"M -0 103.978507 \r\nL 368.925 103.978507 \r\nL 368.925 0 \r\nL -0 0 \r\nz\r\n\" style=\"fill:none;\"/>\r\n  </g>\r\n  <g id=\"axes_1\">\r\n   <g id=\"patch_2\">\r\n    <path d=\"M 26.925 80.100382 \r\nL 361.725 80.100382 \r\nL 361.725 10.025963 \r\nL 26.925 10.025963 \r\nz\r\n\" style=\"fill:#ffffff;\"/>\r\n   </g>\r\n   <g clip-path=\"url(#p79190c89aa)\">\r\n    <image height=\"71\" id=\"imagebf233233a7\" transform=\"scale(1 -1)translate(0 -71)\" width=\"335\" x=\"26.925\" xlink:href=\"data:image/png;base64,\r\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\" y=\"-9.100382\"/>\r\n   </g>\r\n   <g id=\"matplotlib.axis_1\">\r\n    <g id=\"xtick_1\">\r\n     <g id=\"line2d_1\">\r\n      <defs>\r\n       <path d=\"M 0 0 \r\nL 0 3.5 \r\n\" id=\"m3f34fbc4ff\" style=\"stroke:#000000;stroke-width:0.8;\"/>\r\n      </defs>\r\n      <g>\r\n       <use style=\"stroke:#000000;stroke-width:0.8;\" x=\"27.898256\" xlink:href=\"#m3f34fbc4ff\" y=\"80.100382\"/>\r\n      </g>\r\n     </g>\r\n     <g id=\"text_1\">\r\n      <!-- 0 -->\r\n      <g transform=\"translate(24.717006 94.698819)scale(0.1 -0.1)\">\r\n       <defs>\r\n        <path d=\"M 2034 4250 \r\nQ 1547 4250 1301 3770 \r\nQ 1056 3291 1056 2328 \r\nQ 1056 1369 1301 889 \r\nQ 1547 409 2034 409 \r\nQ 2525 409 2770 889 \r\nQ 3016 1369 3016 2328 \r\nQ 3016 3291 2770 3770 \r\nQ 2525 4250 2034 4250 \r\nz\r\nM 2034 4750 \r\nQ 2819 4750 3233 4129 \r\nQ 3647 3509 3647 2328 \r\nQ 3647 1150 3233 529 \r\nQ 2819 -91 2034 -91 \r\nQ 1250 -91 836 529 \r\nQ 422 1150 422 2328 \r\nQ 422 3509 836 4129 \r\nQ 1250 4750 2034 4750 \r\nz\r\n\" id=\"DejaVuSans-30\" transform=\"scale(0.015625)\"/>\r\n       </defs>\r\n       <use xlink:href=\"#DejaVuSans-30\"/>\r\n      </g>\r\n     </g>\r\n    </g>\r\n    <g id=\"xtick_2\">\r\n     <g id=\"line2d_2\">\r\n      <g>\r\n       <use style=\"stroke:#000000;stroke-width:0.8;\" x=\"66.828488\" xlink:href=\"#m3f34fbc4ff\" y=\"80.100382\"/>\r\n      </g>\r\n     </g>\r\n     <g id=\"text_2\">\r\n      <!-- 20 -->\r\n      <g transform=\"translate(60.465988 94.698819)scale(0.1 -0.1)\">\r\n       <defs>\r\n        <path d=\"M 1228 531 \r\nL 3431 531 \r\nL 3431 0 \r\nL 469 0 \r\nL 469 531 \r\nQ 828 903 1448 1529 \r\nQ 2069 2156 2228 2338 \r\nQ 2531 2678 2651 2914 \r\nQ 2772 3150 2772 3378 \r\nQ 2772 3750 2511 3984 \r\nQ 2250 4219 1831 4219 \r\nQ 1534 4219 1204 4116 \r\nQ 875 4013 500 3803 \r\nL 500 4441 \r\nQ 881 4594 1212 4672 \r\nQ 1544 4750 1819 4750 \r\nQ 2544 4750 2975 4387 \r\nQ 3406 4025 3406 3419 \r\nQ 3406 3131 3298 2873 \r\nQ 3191 2616 2906 2266 \r\nQ 2828 2175 2409 1742 \r\nQ 1991 1309 1228 531 \r\nz\r\n\" id=\"DejaVuSans-32\" transform=\"scale(0.015625)\"/>\r\n       </defs>\r\n       <use xlink:href=\"#DejaVuSans-32\"/>\r\n       <use x=\"63.623047\" xlink:href=\"#DejaVuSans-30\"/>\r\n      </g>\r\n     </g>\r\n    </g>\r\n    <g id=\"xtick_3\">\r\n     <g id=\"line2d_3\">\r\n      <g>\r\n       <use style=\"stroke:#000000;stroke-width:0.8;\" x=\"105.758721\" xlink:href=\"#m3f34fbc4ff\" y=\"80.100382\"/>\r\n      </g>\r\n     </g>\r\n     <g id=\"text_3\">\r\n      <!-- 40 -->\r\n      <g transform=\"translate(99.396221 94.698819)scale(0.1 -0.1)\">\r\n       <defs>\r\n        <path d=\"M 2419 4116 \r\nL 825 1625 \r\nL 2419 1625 \r\nL 2419 4116 \r\nz\r\nM 2253 4666 \r\nL 3047 4666 \r\nL 3047 1625 \r\nL 3713 1625 \r\nL 3713 1100 \r\nL 3047 1100 \r\nL 3047 0 \r\nL 2419 0 \r\nL 2419 1100 \r\nL 313 1100 \r\nL 313 1709 \r\nL 2253 4666 \r\nz\r\n\" id=\"DejaVuSans-34\" transform=\"scale(0.015625)\"/>\r\n       </defs>\r\n       <use xlink:href=\"#DejaVuSans-34\"/>\r\n       <use x=\"63.623047\" xlink:href=\"#DejaVuSans-30\"/>\r\n      </g>\r\n     </g>\r\n    </g>\r\n    <g id=\"xtick_4\">\r\n     <g id=\"line2d_4\">\r\n      <g>\r\n       <use style=\"stroke:#000000;stroke-width:0.8;\" x=\"144.688953\" xlink:href=\"#m3f34fbc4ff\" y=\"80.100382\"/>\r\n      </g>\r\n     </g>\r\n     <g id=\"text_4\">\r\n      <!-- 60 -->\r\n      <g transform=\"translate(138.326453 94.698819)scale(0.1 -0.1)\">\r\n       <defs>\r\n        <path d=\"M 2113 2584 \r\nQ 1688 2584 1439 2293 \r\nQ 1191 2003 1191 1497 \r\nQ 1191 994 1439 701 \r\nQ 1688 409 2113 409 \r\nQ 2538 409 2786 701 \r\nQ 3034 994 3034 1497 \r\nQ 3034 2003 2786 2293 \r\nQ 2538 2584 2113 2584 \r\nz\r\nM 3366 4563 \r\nL 3366 3988 \r\nQ 3128 4100 2886 4159 \r\nQ 2644 4219 2406 4219 \r\nQ 1781 4219 1451 3797 \r\nQ 1122 3375 1075 2522 \r\nQ 1259 2794 1537 2939 \r\nQ 1816 3084 2150 3084 \r\nQ 2853 3084 3261 2657 \r\nQ 3669 2231 3669 1497 \r\nQ 3669 778 3244 343 \r\nQ 2819 -91 2113 -91 \r\nQ 1303 -91 875 529 \r\nQ 447 1150 447 2328 \r\nQ 447 3434 972 4092 \r\nQ 1497 4750 2381 4750 \r\nQ 2619 4750 2861 4703 \r\nQ 3103 4656 3366 4563 \r\nz\r\n\" id=\"DejaVuSans-36\" transform=\"scale(0.015625)\"/>\r\n       </defs>\r\n       <use xlink:href=\"#DejaVuSans-36\"/>\r\n       <use x=\"63.623047\" xlink:href=\"#DejaVuSans-30\"/>\r\n      </g>\r\n     </g>\r\n    </g>\r\n    <g id=\"xtick_5\">\r\n     <g id=\"line2d_5\">\r\n      <g>\r\n       <use style=\"stroke:#000000;stroke-width:0.8;\" x=\"183.619186\" xlink:href=\"#m3f34fbc4ff\" y=\"80.100382\"/>\r\n      </g>\r\n     </g>\r\n     <g id=\"text_5\">\r\n      <!-- 80 -->\r\n      <g transform=\"translate(177.256686 94.698819)scale(0.1 -0.1)\">\r\n       <defs>\r\n        <path d=\"M 2034 2216 \r\nQ 1584 2216 1326 1975 \r\nQ 1069 1734 1069 1313 \r\nQ 1069 891 1326 650 \r\nQ 1584 409 2034 409 \r\nQ 2484 409 2743 651 \r\nQ 3003 894 3003 1313 \r\nQ 3003 1734 2745 1975 \r\nQ 2488 2216 2034 2216 \r\nz\r\nM 1403 2484 \r\nQ 997 2584 770 2862 \r\nQ 544 3141 544 3541 \r\nQ 544 4100 942 4425 \r\nQ 1341 4750 2034 4750 \r\nQ 2731 4750 3128 4425 \r\nQ 3525 4100 3525 3541 \r\nQ 3525 3141 3298 2862 \r\nQ 3072 2584 2669 2484 \r\nQ 3125 2378 3379 2068 \r\nQ 3634 1759 3634 1313 \r\nQ 3634 634 3220 271 \r\nQ 2806 -91 2034 -91 \r\nQ 1263 -91 848 271 \r\nQ 434 634 434 1313 \r\nQ 434 1759 690 2068 \r\nQ 947 2378 1403 2484 \r\nz\r\nM 1172 3481 \r\nQ 1172 3119 1398 2916 \r\nQ 1625 2713 2034 2713 \r\nQ 2441 2713 2670 2916 \r\nQ 2900 3119 2900 3481 \r\nQ 2900 3844 2670 4047 \r\nQ 2441 4250 2034 4250 \r\nQ 1625 4250 1398 4047 \r\nQ 1172 3844 1172 3481 \r\nz\r\n\" id=\"DejaVuSans-38\" transform=\"scale(0.015625)\"/>\r\n       </defs>\r\n       <use xlink:href=\"#DejaVuSans-38\"/>\r\n       <use x=\"63.623047\" xlink:href=\"#DejaVuSans-30\"/>\r\n      </g>\r\n     </g>\r\n    </g>\r\n    <g id=\"xtick_6\">\r\n     <g id=\"line2d_6\">\r\n      <g>\r\n       <use style=\"stroke:#000000;stroke-width:0.8;\" x=\"222.549419\" xlink:href=\"#m3f34fbc4ff\" y=\"80.100382\"/>\r\n      </g>\r\n     </g>\r\n     <g id=\"text_6\">\r\n      <!-- 100 -->\r\n      <g transform=\"translate(213.005669 94.698819)scale(0.1 -0.1)\">\r\n       <defs>\r\n        <path d=\"M 794 531 \r\nL 1825 531 \r\nL 1825 4091 \r\nL 703 3866 \r\nL 703 4441 \r\nL 1819 4666 \r\nL 2450 4666 \r\nL 2450 531 \r\nL 3481 531 \r\nL 3481 0 \r\nL 794 0 \r\nL 794 531 \r\nz\r\n\" id=\"DejaVuSans-31\" transform=\"scale(0.015625)\"/>\r\n       </defs>\r\n       <use xlink:href=\"#DejaVuSans-31\"/>\r\n       <use x=\"63.623047\" xlink:href=\"#DejaVuSans-30\"/>\r\n       <use x=\"127.246094\" xlink:href=\"#DejaVuSans-30\"/>\r\n      </g>\r\n     </g>\r\n    </g>\r\n    <g id=\"xtick_7\">\r\n     <g id=\"line2d_7\">\r\n      <g>\r\n       <use style=\"stroke:#000000;stroke-width:0.8;\" x=\"261.479651\" xlink:href=\"#m3f34fbc4ff\" y=\"80.100382\"/>\r\n      </g>\r\n     </g>\r\n     <g id=\"text_7\">\r\n      <!-- 120 -->\r\n      <g transform=\"translate(251.935901 94.698819)scale(0.1 -0.1)\">\r\n       <use xlink:href=\"#DejaVuSans-31\"/>\r\n       <use x=\"63.623047\" xlink:href=\"#DejaVuSans-32\"/>\r\n       <use x=\"127.246094\" xlink:href=\"#DejaVuSans-30\"/>\r\n      </g>\r\n     </g>\r\n    </g>\r\n    <g id=\"xtick_8\">\r\n     <g id=\"line2d_8\">\r\n      <g>\r\n       <use style=\"stroke:#000000;stroke-width:0.8;\" x=\"300.409884\" xlink:href=\"#m3f34fbc4ff\" y=\"80.100382\"/>\r\n      </g>\r\n     </g>\r\n     <g id=\"text_8\">\r\n      <!-- 140 -->\r\n      <g transform=\"translate(290.866134 94.698819)scale(0.1 -0.1)\">\r\n       <use xlink:href=\"#DejaVuSans-31\"/>\r\n       <use x=\"63.623047\" xlink:href=\"#DejaVuSans-34\"/>\r\n       <use x=\"127.246094\" xlink:href=\"#DejaVuSans-30\"/>\r\n      </g>\r\n     </g>\r\n    </g>\r\n    <g id=\"xtick_9\">\r\n     <g id=\"line2d_9\">\r\n      <g>\r\n       <use style=\"stroke:#000000;stroke-width:0.8;\" x=\"339.340116\" xlink:href=\"#m3f34fbc4ff\" y=\"80.100382\"/>\r\n      </g>\r\n     </g>\r\n     <g id=\"text_9\">\r\n      <!-- 160 -->\r\n      <g transform=\"translate(329.796366 94.698819)scale(0.1 -0.1)\">\r\n       <use xlink:href=\"#DejaVuSans-31\"/>\r\n       <use x=\"63.623047\" xlink:href=\"#DejaVuSans-36\"/>\r\n       <use x=\"127.246094\" xlink:href=\"#DejaVuSans-30\"/>\r\n      </g>\r\n     </g>\r\n    </g>\r\n   </g>\r\n   <g id=\"matplotlib.axis_2\">\r\n    <g id=\"ytick_1\">\r\n     <g id=\"line2d_10\">\r\n      <defs>\r\n       <path d=\"M 0 0 \r\nL -3.5 0 \r\n\" id=\"m5a7fd3f5e1\" style=\"stroke:#000000;stroke-width:0.8;\"/>\r\n      </defs>\r\n      <g>\r\n       <use style=\"stroke:#000000;stroke-width:0.8;\" x=\"26.925\" xlink:href=\"#m5a7fd3f5e1\" y=\"10.999219\"/>\r\n      </g>\r\n     </g>\r\n     <g id=\"text_10\">\r\n      <!-- 0 -->\r\n      <g transform=\"translate(13.5625 14.798437)scale(0.1 -0.1)\">\r\n       <use xlink:href=\"#DejaVuSans-30\"/>\r\n      </g>\r\n     </g>\r\n    </g>\r\n    <g id=\"ytick_2\">\r\n     <g id=\"line2d_11\">\r\n      <g>\r\n       <use style=\"stroke:#000000;stroke-width:0.8;\" x=\"26.925\" xlink:href=\"#m5a7fd3f5e1\" y=\"49.929451\"/>\r\n      </g>\r\n     </g>\r\n     <g id=\"text_11\">\r\n      <!-- 20 -->\r\n      <g transform=\"translate(7.2 53.72867)scale(0.1 -0.1)\">\r\n       <use xlink:href=\"#DejaVuSans-32\"/>\r\n       <use x=\"63.623047\" xlink:href=\"#DejaVuSans-30\"/>\r\n      </g>\r\n     </g>\r\n    </g>\r\n   </g>\r\n   <g id=\"patch_3\">\r\n    <path d=\"M 26.925 80.100382 \r\nL 26.925 10.025963 \r\n\" style=\"fill:none;stroke:#000000;stroke-linecap:square;stroke-linejoin:miter;stroke-width:0.8;\"/>\r\n   </g>\r\n   <g id=\"patch_4\">\r\n    <path d=\"M 361.725 80.100382 \r\nL 361.725 10.025963 \r\n\" style=\"fill:none;stroke:#000000;stroke-linecap:square;stroke-linejoin:miter;stroke-width:0.8;\"/>\r\n   </g>\r\n   <g id=\"patch_5\">\r\n    <path d=\"M 26.925 80.100382 \r\nL 361.725 80.100382 \r\n\" style=\"fill:none;stroke:#000000;stroke-linecap:square;stroke-linejoin:miter;stroke-width:0.8;\"/>\r\n   </g>\r\n   <g id=\"patch_6\">\r\n    <path d=\"M 26.925 10.025963 \r\nL 361.725 10.025963 \r\n\" style=\"fill:none;stroke:#000000;stroke-linecap:square;stroke-linejoin:miter;stroke-width:0.8;\"/>\r\n   </g>\r\n  </g>\r\n </g>\r\n <defs>\r\n  <clipPath id=\"p79190c89aa\">\r\n   <rect height=\"70.074419\" width=\"334.8\" x=\"26.925\" y=\"10.025963\"/>\r\n  </clipPath>\r\n </defs>\r\n</svg>\r\n",
      "image/png": "[encoded data removed]"
     },
     "metadata": {
      "needs_background": "light"
     }
    },
    {
     "output_type": "stream",
     "name": "stdout",
     "text": [
      "    2    3    5    4    8\n"
     ]
    }
   ],
   "source": [
    "dataiter = iter(trainloader)\n",
    "images, labels = dataiter.next()\n",
    "\n",
    "imshow(torchvision.utils.make_grid(images))\n",
    "print(''.join('%5s' % int(labels[j]) for j in range(batch_size)))"
   ]
  },
  {
   "cell_type": "code",
   "execution_count": 97,
   "metadata": {},
   "outputs": [
    {
     "output_type": "execute_result",
     "data": {
      "text/plain": [
       "torch.Size([1, 32, 32])"
      ]
     },
     "metadata": {},
     "execution_count": 97
    }
   ],
   "source": [
    "images[0].shape"
   ]
  },
  {
   "cell_type": "code",
   "execution_count": 98,
   "metadata": {},
   "outputs": [],
   "source": [
    "class LeNet5(nn.Module):\n",
    "    def __init__(self):\n",
    "        super(LeNet5, self).__init__()\n",
    "\n",
    "        self.features = nn.Sequential(\n",
    "            nn.Conv2d(in_channels=1, out_channels=6, kernel_size=(5, 5)),\n",
    "            nn.ReLU(inplace=True),\n",
    "            nn.MaxPool2d(kernel_size=(2, 2)),\n",
    "\n",
    "            nn.Conv2d(in_channels=6, out_channels=16, kernel_size=(5, 5)),\n",
    "            nn.ReLU(inplace=True),\n",
    "            nn.MaxPool2d(kernel_size=(2, 2)),\n",
    "\n",
    "            nn.Flatten(),\n",
    "\n",
    "            nn.Linear(16 * 5 * 5, 120),\n",
    "            nn.ReLU(inplace=True),\n",
    "\n",
    "            nn.Linear(120, 84),\n",
    "            nn.ReLU(inplace=True),\n",
    "            \n",
    "            nn.Linear(84, 10)\n",
    "        )\n",
    "\n",
    "    def forward(self, x):\n",
    "        x = self.features(x)\n",
    "        return x"
   ]
  },
  {
   "cell_type": "code",
   "execution_count": 99,
   "metadata": {},
   "outputs": [
    {
     "output_type": "execute_result",
     "data": {
      "text/plain": [
       "LeNet5(\n",
       "  (features): Sequential(\n",
       "    (0): Conv2d(1, 6, kernel_size=(5, 5), stride=(1, 1))\n",
       "    (1): ReLU(inplace=True)\n",
       "    (2): MaxPool2d(kernel_size=(2, 2), stride=(2, 2), padding=0, dilation=1, ceil_mode=False)\n",
       "    (3): Conv2d(6, 16, kernel_size=(5, 5), stride=(1, 1))\n",
       "    (4): ReLU(inplace=True)\n",
       "    (5): MaxPool2d(kernel_size=(2, 2), stride=(2, 2), padding=0, dilation=1, ceil_mode=False)\n",
       "    (6): Flatten(start_dim=1, end_dim=-1)\n",
       "    (7): Linear(in_features=400, out_features=120, bias=True)\n",
       "    (8): ReLU(inplace=True)\n",
       "    (9): Linear(in_features=120, out_features=84, bias=True)\n",
       "    (10): ReLU(inplace=True)\n",
       "    (11): Linear(in_features=84, out_features=10, bias=True)\n",
       "  )\n",
       ")"
      ]
     },
     "metadata": {},
     "execution_count": 99
    }
   ],
   "source": [
    "leNet = LeNet5()\n",
    "leNet.to(device)"
   ]
  },
  {
   "cell_type": "code",
   "execution_count": 100,
   "metadata": {},
   "outputs": [],
   "source": [
    "import torch.optim as optim\n",
    "\n",
    "criterion = nn.CrossEntropyLoss()\n",
    "optimizer = optim.SGD(leNet.parameters(), lr=0.001, momentum=0.9)"
   ]
  },
  {
   "cell_type": "code",
   "execution_count": 103,
   "metadata": {
    "tags": []
   },
   "outputs": [
    {
     "output_type": "stream",
     "name": "stdout",
     "text": [
      "[1,  1000] loss: 0.034, accuracy: 0.991\n",
      "[1,  2000] loss: 0.030, accuracy: 0.991\n",
      "[1,  3000] loss: 0.029, accuracy: 0.990\n",
      "[1,  4000] loss: 0.032, accuracy: 0.989\n",
      "[1,  5000] loss: 0.037, accuracy: 0.989\n",
      "[1,  6000] loss: 0.028, accuracy: 0.992\n",
      "[1,  7000] loss: 0.035, accuracy: 0.988\n",
      "[1,  8000] loss: 0.032, accuracy: 0.989\n",
      "[1,  9000] loss: 0.030, accuracy: 0.992\n",
      "[1, 10000] loss: 0.032, accuracy: 0.990\n",
      "[1, 11000] loss: 0.027, accuracy: 0.991\n",
      "[1, 12000] loss: 0.032, accuracy: 0.991\n",
      "[2,  1000] loss: 0.020, accuracy: 0.994\n",
      "[2,  2000] loss: 0.028, accuracy: 0.991\n",
      "[2,  3000] loss: 0.023, accuracy: 0.993\n",
      "[2,  4000] loss: 0.025, accuracy: 0.992\n",
      "[2,  5000] loss: 0.023, accuracy: 0.994\n",
      "[2,  6000] loss: 0.028, accuracy: 0.990\n",
      "[2,  7000] loss: 0.017, accuracy: 0.995\n",
      "[2,  8000] loss: 0.029, accuracy: 0.991\n",
      "[2,  9000] loss: 0.025, accuracy: 0.992\n",
      "[2, 10000] loss: 0.035, accuracy: 0.989\n",
      "[2, 11000] loss: 0.027, accuracy: 0.991\n",
      "[2, 12000] loss: 0.036, accuracy: 0.990\n",
      "Finished Training\n"
     ]
    }
   ],
   "source": [
    "best_model_loss = 1e20\n",
    "\n",
    "for epoch in range(2):   # 데이터셋을 수차례 반복합니다.\n",
    "    running_loss = 0.0\n",
    "    running_accuracy = 0.0\n",
    "\n",
    "    for i, data in enumerate(trainloader, 0):\n",
    "        # [inputs, labels]의 목록인 data로부터 입력을 받은 후;\n",
    "        # https://stackoverflow.com/questions/59013109/runtimeerror-input-type-torch-floattensor-and-weight-type-torch-cuda-floatte/59013131\n",
    "        inputs, labels = data\n",
    "        inputs, labels = inputs.cuda(), labels.cuda()\n",
    "\n",
    "        # 변화도(Gradient) 매개변수를 0으로 만들고\n",
    "        optimizer.zero_grad()\n",
    "        leNet.zero_grad()\n",
    "\n",
    "        # 순전파 + 역전파 + 최적화를 한 후\n",
    "        outputs = leNet(inputs)\n",
    "        loss = criterion(outputs, labels)\n",
    "        loss.backward()\n",
    "        optimizer.step()\n",
    "\n",
    "        # 통계를 출력합니다.\n",
    "        preds = torch.argmax(outputs.data, dim=1)\n",
    "\n",
    "        running_loss += loss.item()\n",
    "        running_accuracy += (labels == preds).float().mean()\n",
    "\n",
    "        if i % 1000 == 999:    # print every 2000 mini-batches\n",
    "            if running_loss < best_model_loss:\n",
    "                best_model_loss = running_loss\n",
    "                PATH = './mnist_net.pth'\n",
    "                torch.save(leNet.state_dict(), PATH)\n",
    "\n",
    "            print('[%d, %5d] loss: %.3f, accuracy: %.3f' %\n",
    "                  (epoch + 1, i + 1, running_loss / 1000, running_accuracy / 1000))\n",
    "            running_loss = 0.0\n",
    "            running_accuracy = 0.0\n",
    "\n",
    "print('Finished Training')\n",
    "\n"
   ]
  },
  {
   "cell_type": "code",
   "execution_count": 69,
   "metadata": {},
   "outputs": [],
   "source": [
    "PATH = './mnist_net.pth'\n",
    "torch.save(leNet.state_dict(), PATH)"
   ]
  },
  {
   "cell_type": "code",
   "execution_count": 70,
   "metadata": {},
   "outputs": [],
   "source": [
    "dataiter = iter(testloader)\n",
    "images, labels = dataiter.next()"
   ]
  },
  {
   "cell_type": "code",
   "execution_count": 75,
   "metadata": {},
   "outputs": [
    {
     "output_type": "execute_result",
     "data": {
      "text/plain": [
       "LeNet5(\n",
       "  (features): Sequential(\n",
       "    (0): Conv2d(1, 6, kernel_size=(5, 5), stride=(1, 1))\n",
       "    (1): ReLU(inplace=True)\n",
       "    (2): MaxPool2d(kernel_size=(2, 2), stride=(2, 2), padding=0, dilation=1, ceil_mode=False)\n",
       "    (3): Conv2d(6, 16, kernel_size=(5, 5), stride=(1, 1))\n",
       "    (4): ReLU(inplace=True)\n",
       "    (5): MaxPool2d(kernel_size=(2, 2), stride=(2, 2), padding=0, dilation=1, ceil_mode=False)\n",
       "    (6): Flatten(start_dim=1, end_dim=-1)\n",
       "    (7): Linear(in_features=400, out_features=120, bias=True)\n",
       "    (8): ReLU(inplace=True)\n",
       "    (9): Linear(in_features=120, out_features=84, bias=True)\n",
       "    (10): ReLU(inplace=True)\n",
       "    (11): Linear(in_features=84, out_features=10, bias=True)\n",
       "  )\n",
       ")"
      ]
     },
     "metadata": {},
     "execution_count": 75
    }
   ],
   "source": [
    "PATH = './mnist_net.pth'\n",
    "leNet = LeNet5()\n",
    "leNet.load_state_dict(torch.load(PATH))\n",
    "leNet.to(device)"
   ]
  },
  {
   "cell_type": "code",
   "execution_count": 77,
   "metadata": {},
   "outputs": [],
   "source": [
    "outputs = leNet(images.cuda())"
   ]
  },
  {
   "cell_type": "code",
   "execution_count": 78,
   "metadata": {},
   "outputs": [
    {
     "output_type": "display_data",
     "data": {
      "text/plain": "<Figure size 432x288 with 1 Axes>",
      "image/svg+xml": "<?xml version=\"1.0\" encoding=\"utf-8\" standalone=\"no\"?>\r\n<!DOCTYPE svg PUBLIC \"-//W3C//DTD SVG 1.1//EN\"\r\n  \"http://www.w3.org/Graphics/SVG/1.1/DTD/svg11.dtd\">\r\n<svg height=\"103.978507pt\" version=\"1.1\" viewBox=\"0 0 368.925 103.978507\" width=\"368.925pt\" xmlns=\"http://www.w3.org/2000/svg\" xmlns:xlink=\"http://www.w3.org/1999/xlink\">\r\n <metadata>\r\n  <rdf:RDF xmlns:cc=\"http://creativecommons.org/ns#\" xmlns:dc=\"http://purl.org/dc/elements/1.1/\" xmlns:rdf=\"http://www.w3.org/1999/02/22-rdf-syntax-ns#\">\r\n   <cc:Work>\r\n    <dc:type rdf:resource=\"http://purl.org/dc/dcmitype/StillImage\"/>\r\n    <dc:date>2021-06-30T02:39:26.424719</dc:date>\r\n    <dc:format>image/svg+xml</dc:format>\r\n    <dc:creator>\r\n     <cc:Agent>\r\n      <dc:title>Matplotlib v3.4.2, https://matplotlib.org/</dc:title>\r\n     </cc:Agent>\r\n    </dc:creator>\r\n   </cc:Work>\r\n  </rdf:RDF>\r\n </metadata>\r\n <defs>\r\n  <style type=\"text/css\">*{stroke-linecap:butt;stroke-linejoin:round;}</style>\r\n </defs>\r\n <g id=\"figure_1\">\r\n  <g id=\"patch_1\">\r\n   <path d=\"M -0 103.978507 \r\nL 368.925 103.978507 \r\nL 368.925 0 \r\nL -0 0 \r\nz\r\n\" style=\"fill:none;\"/>\r\n  </g>\r\n  <g id=\"axes_1\">\r\n   <g id=\"patch_2\">\r\n    <path d=\"M 26.925 80.100382 \r\nL 361.725 80.100382 \r\nL 361.725 10.025963 \r\nL 26.925 10.025963 \r\nz\r\n\" style=\"fill:#ffffff;\"/>\r\n   </g>\r\n   <g clip-path=\"url(#p3da34f89d5)\">\r\n    <image height=\"71\" id=\"image775533afbf\" transform=\"scale(1 -1)translate(0 -71)\" width=\"335\" x=\"26.925\" xlink:href=\"data:image/png;base64,\r\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\" y=\"-9.100382\"/>\r\n   </g>\r\n   <g id=\"matplotlib.axis_1\">\r\n    <g id=\"xtick_1\">\r\n     <g id=\"line2d_1\">\r\n      <defs>\r\n       <path d=\"M 0 0 \r\nL 0 3.5 \r\n\" id=\"m468e394899\" style=\"stroke:#000000;stroke-width:0.8;\"/>\r\n      </defs>\r\n      <g>\r\n       <use style=\"stroke:#000000;stroke-width:0.8;\" x=\"27.898256\" xlink:href=\"#m468e394899\" y=\"80.100382\"/>\r\n      </g>\r\n     </g>\r\n     <g id=\"text_1\">\r\n      <!-- 0 -->\r\n      <g transform=\"translate(24.717006 94.698819)scale(0.1 -0.1)\">\r\n       <defs>\r\n        <path d=\"M 2034 4250 \r\nQ 1547 4250 1301 3770 \r\nQ 1056 3291 1056 2328 \r\nQ 1056 1369 1301 889 \r\nQ 1547 409 2034 409 \r\nQ 2525 409 2770 889 \r\nQ 3016 1369 3016 2328 \r\nQ 3016 3291 2770 3770 \r\nQ 2525 4250 2034 4250 \r\nz\r\nM 2034 4750 \r\nQ 2819 4750 3233 4129 \r\nQ 3647 3509 3647 2328 \r\nQ 3647 1150 3233 529 \r\nQ 2819 -91 2034 -91 \r\nQ 1250 -91 836 529 \r\nQ 422 1150 422 2328 \r\nQ 422 3509 836 4129 \r\nQ 1250 4750 2034 4750 \r\nz\r\n\" id=\"DejaVuSans-30\" transform=\"scale(0.015625)\"/>\r\n       </defs>\r\n       <use xlink:href=\"#DejaVuSans-30\"/>\r\n      </g>\r\n     </g>\r\n    </g>\r\n    <g id=\"xtick_2\">\r\n     <g id=\"line2d_2\">\r\n      <g>\r\n       <use style=\"stroke:#000000;stroke-width:0.8;\" x=\"66.828488\" xlink:href=\"#m468e394899\" y=\"80.100382\"/>\r\n      </g>\r\n     </g>\r\n     <g id=\"text_2\">\r\n      <!-- 20 -->\r\n      <g transform=\"translate(60.465988 94.698819)scale(0.1 -0.1)\">\r\n       <defs>\r\n        <path d=\"M 1228 531 \r\nL 3431 531 \r\nL 3431 0 \r\nL 469 0 \r\nL 469 531 \r\nQ 828 903 1448 1529 \r\nQ 2069 2156 2228 2338 \r\nQ 2531 2678 2651 2914 \r\nQ 2772 3150 2772 3378 \r\nQ 2772 3750 2511 3984 \r\nQ 2250 4219 1831 4219 \r\nQ 1534 4219 1204 4116 \r\nQ 875 4013 500 3803 \r\nL 500 4441 \r\nQ 881 4594 1212 4672 \r\nQ 1544 4750 1819 4750 \r\nQ 2544 4750 2975 4387 \r\nQ 3406 4025 3406 3419 \r\nQ 3406 3131 3298 2873 \r\nQ 3191 2616 2906 2266 \r\nQ 2828 2175 2409 1742 \r\nQ 1991 1309 1228 531 \r\nz\r\n\" id=\"DejaVuSans-32\" transform=\"scale(0.015625)\"/>\r\n       </defs>\r\n       <use xlink:href=\"#DejaVuSans-32\"/>\r\n       <use x=\"63.623047\" xlink:href=\"#DejaVuSans-30\"/>\r\n      </g>\r\n     </g>\r\n    </g>\r\n    <g id=\"xtick_3\">\r\n     <g id=\"line2d_3\">\r\n      <g>\r\n       <use style=\"stroke:#000000;stroke-width:0.8;\" x=\"105.758721\" xlink:href=\"#m468e394899\" y=\"80.100382\"/>\r\n      </g>\r\n     </g>\r\n     <g id=\"text_3\">\r\n      <!-- 40 -->\r\n      <g transform=\"translate(99.396221 94.698819)scale(0.1 -0.1)\">\r\n       <defs>\r\n        <path d=\"M 2419 4116 \r\nL 825 1625 \r\nL 2419 1625 \r\nL 2419 4116 \r\nz\r\nM 2253 4666 \r\nL 3047 4666 \r\nL 3047 1625 \r\nL 3713 1625 \r\nL 3713 1100 \r\nL 3047 1100 \r\nL 3047 0 \r\nL 2419 0 \r\nL 2419 1100 \r\nL 313 1100 \r\nL 313 1709 \r\nL 2253 4666 \r\nz\r\n\" id=\"DejaVuSans-34\" transform=\"scale(0.015625)\"/>\r\n       </defs>\r\n       <use xlink:href=\"#DejaVuSans-34\"/>\r\n       <use x=\"63.623047\" xlink:href=\"#DejaVuSans-30\"/>\r\n      </g>\r\n     </g>\r\n    </g>\r\n    <g id=\"xtick_4\">\r\n     <g id=\"line2d_4\">\r\n      <g>\r\n       <use style=\"stroke:#000000;stroke-width:0.8;\" x=\"144.688953\" xlink:href=\"#m468e394899\" y=\"80.100382\"/>\r\n      </g>\r\n     </g>\r\n     <g id=\"text_4\">\r\n      <!-- 60 -->\r\n      <g transform=\"translate(138.326453 94.698819)scale(0.1 -0.1)\">\r\n       <defs>\r\n        <path d=\"M 2113 2584 \r\nQ 1688 2584 1439 2293 \r\nQ 1191 2003 1191 1497 \r\nQ 1191 994 1439 701 \r\nQ 1688 409 2113 409 \r\nQ 2538 409 2786 701 \r\nQ 3034 994 3034 1497 \r\nQ 3034 2003 2786 2293 \r\nQ 2538 2584 2113 2584 \r\nz\r\nM 3366 4563 \r\nL 3366 3988 \r\nQ 3128 4100 2886 4159 \r\nQ 2644 4219 2406 4219 \r\nQ 1781 4219 1451 3797 \r\nQ 1122 3375 1075 2522 \r\nQ 1259 2794 1537 2939 \r\nQ 1816 3084 2150 3084 \r\nQ 2853 3084 3261 2657 \r\nQ 3669 2231 3669 1497 \r\nQ 3669 778 3244 343 \r\nQ 2819 -91 2113 -91 \r\nQ 1303 -91 875 529 \r\nQ 447 1150 447 2328 \r\nQ 447 3434 972 4092 \r\nQ 1497 4750 2381 4750 \r\nQ 2619 4750 2861 4703 \r\nQ 3103 4656 3366 4563 \r\nz\r\n\" id=\"DejaVuSans-36\" transform=\"scale(0.015625)\"/>\r\n       </defs>\r\n       <use xlink:href=\"#DejaVuSans-36\"/>\r\n       <use x=\"63.623047\" xlink:href=\"#DejaVuSans-30\"/>\r\n      </g>\r\n     </g>\r\n    </g>\r\n    <g id=\"xtick_5\">\r\n     <g id=\"line2d_5\">\r\n      <g>\r\n       <use style=\"stroke:#000000;stroke-width:0.8;\" x=\"183.619186\" xlink:href=\"#m468e394899\" y=\"80.100382\"/>\r\n      </g>\r\n     </g>\r\n     <g id=\"text_5\">\r\n      <!-- 80 -->\r\n      <g transform=\"translate(177.256686 94.698819)scale(0.1 -0.1)\">\r\n       <defs>\r\n        <path d=\"M 2034 2216 \r\nQ 1584 2216 1326 1975 \r\nQ 1069 1734 1069 1313 \r\nQ 1069 891 1326 650 \r\nQ 1584 409 2034 409 \r\nQ 2484 409 2743 651 \r\nQ 3003 894 3003 1313 \r\nQ 3003 1734 2745 1975 \r\nQ 2488 2216 2034 2216 \r\nz\r\nM 1403 2484 \r\nQ 997 2584 770 2862 \r\nQ 544 3141 544 3541 \r\nQ 544 4100 942 4425 \r\nQ 1341 4750 2034 4750 \r\nQ 2731 4750 3128 4425 \r\nQ 3525 4100 3525 3541 \r\nQ 3525 3141 3298 2862 \r\nQ 3072 2584 2669 2484 \r\nQ 3125 2378 3379 2068 \r\nQ 3634 1759 3634 1313 \r\nQ 3634 634 3220 271 \r\nQ 2806 -91 2034 -91 \r\nQ 1263 -91 848 271 \r\nQ 434 634 434 1313 \r\nQ 434 1759 690 2068 \r\nQ 947 2378 1403 2484 \r\nz\r\nM 1172 3481 \r\nQ 1172 3119 1398 2916 \r\nQ 1625 2713 2034 2713 \r\nQ 2441 2713 2670 2916 \r\nQ 2900 3119 2900 3481 \r\nQ 2900 3844 2670 4047 \r\nQ 2441 4250 2034 4250 \r\nQ 1625 4250 1398 4047 \r\nQ 1172 3844 1172 3481 \r\nz\r\n\" id=\"DejaVuSans-38\" transform=\"scale(0.015625)\"/>\r\n       </defs>\r\n       <use xlink:href=\"#DejaVuSans-38\"/>\r\n       <use x=\"63.623047\" xlink:href=\"#DejaVuSans-30\"/>\r\n      </g>\r\n     </g>\r\n    </g>\r\n    <g id=\"xtick_6\">\r\n     <g id=\"line2d_6\">\r\n      <g>\r\n       <use style=\"stroke:#000000;stroke-width:0.8;\" x=\"222.549419\" xlink:href=\"#m468e394899\" y=\"80.100382\"/>\r\n      </g>\r\n     </g>\r\n     <g id=\"text_6\">\r\n      <!-- 100 -->\r\n      <g transform=\"translate(213.005669 94.698819)scale(0.1 -0.1)\">\r\n       <defs>\r\n        <path d=\"M 794 531 \r\nL 1825 531 \r\nL 1825 4091 \r\nL 703 3866 \r\nL 703 4441 \r\nL 1819 4666 \r\nL 2450 4666 \r\nL 2450 531 \r\nL 3481 531 \r\nL 3481 0 \r\nL 794 0 \r\nL 794 531 \r\nz\r\n\" id=\"DejaVuSans-31\" transform=\"scale(0.015625)\"/>\r\n       </defs>\r\n       <use xlink:href=\"#DejaVuSans-31\"/>\r\n       <use x=\"63.623047\" xlink:href=\"#DejaVuSans-30\"/>\r\n       <use x=\"127.246094\" xlink:href=\"#DejaVuSans-30\"/>\r\n      </g>\r\n     </g>\r\n    </g>\r\n    <g id=\"xtick_7\">\r\n     <g id=\"line2d_7\">\r\n      <g>\r\n       <use style=\"stroke:#000000;stroke-width:0.8;\" x=\"261.479651\" xlink:href=\"#m468e394899\" y=\"80.100382\"/>\r\n      </g>\r\n     </g>\r\n     <g id=\"text_7\">\r\n      <!-- 120 -->\r\n      <g transform=\"translate(251.935901 94.698819)scale(0.1 -0.1)\">\r\n       <use xlink:href=\"#DejaVuSans-31\"/>\r\n       <use x=\"63.623047\" xlink:href=\"#DejaVuSans-32\"/>\r\n       <use x=\"127.246094\" xlink:href=\"#DejaVuSans-30\"/>\r\n      </g>\r\n     </g>\r\n    </g>\r\n    <g id=\"xtick_8\">\r\n     <g id=\"line2d_8\">\r\n      <g>\r\n       <use style=\"stroke:#000000;stroke-width:0.8;\" x=\"300.409884\" xlink:href=\"#m468e394899\" y=\"80.100382\"/>\r\n      </g>\r\n     </g>\r\n     <g id=\"text_8\">\r\n      <!-- 140 -->\r\n      <g transform=\"translate(290.866134 94.698819)scale(0.1 -0.1)\">\r\n       <use xlink:href=\"#DejaVuSans-31\"/>\r\n       <use x=\"63.623047\" xlink:href=\"#DejaVuSans-34\"/>\r\n       <use x=\"127.246094\" xlink:href=\"#DejaVuSans-30\"/>\r\n      </g>\r\n     </g>\r\n    </g>\r\n    <g id=\"xtick_9\">\r\n     <g id=\"line2d_9\">\r\n      <g>\r\n       <use style=\"stroke:#000000;stroke-width:0.8;\" x=\"339.340116\" xlink:href=\"#m468e394899\" y=\"80.100382\"/>\r\n      </g>\r\n     </g>\r\n     <g id=\"text_9\">\r\n      <!-- 160 -->\r\n      <g transform=\"translate(329.796366 94.698819)scale(0.1 -0.1)\">\r\n       <use xlink:href=\"#DejaVuSans-31\"/>\r\n       <use x=\"63.623047\" xlink:href=\"#DejaVuSans-36\"/>\r\n       <use x=\"127.246094\" xlink:href=\"#DejaVuSans-30\"/>\r\n      </g>\r\n     </g>\r\n    </g>\r\n   </g>\r\n   <g id=\"matplotlib.axis_2\">\r\n    <g id=\"ytick_1\">\r\n     <g id=\"line2d_10\">\r\n      <defs>\r\n       <path d=\"M 0 0 \r\nL -3.5 0 \r\n\" id=\"mb3621925d8\" style=\"stroke:#000000;stroke-width:0.8;\"/>\r\n      </defs>\r\n      <g>\r\n       <use style=\"stroke:#000000;stroke-width:0.8;\" x=\"26.925\" xlink:href=\"#mb3621925d8\" y=\"10.999219\"/>\r\n      </g>\r\n     </g>\r\n     <g id=\"text_10\">\r\n      <!-- 0 -->\r\n      <g transform=\"translate(13.5625 14.798437)scale(0.1 -0.1)\">\r\n       <use xlink:href=\"#DejaVuSans-30\"/>\r\n      </g>\r\n     </g>\r\n    </g>\r\n    <g id=\"ytick_2\">\r\n     <g id=\"line2d_11\">\r\n      <g>\r\n       <use style=\"stroke:#000000;stroke-width:0.8;\" x=\"26.925\" xlink:href=\"#mb3621925d8\" y=\"49.929451\"/>\r\n      </g>\r\n     </g>\r\n     <g id=\"text_11\">\r\n      <!-- 20 -->\r\n      <g transform=\"translate(7.2 53.72867)scale(0.1 -0.1)\">\r\n       <use xlink:href=\"#DejaVuSans-32\"/>\r\n       <use x=\"63.623047\" xlink:href=\"#DejaVuSans-30\"/>\r\n      </g>\r\n     </g>\r\n    </g>\r\n   </g>\r\n   <g id=\"patch_3\">\r\n    <path d=\"M 26.925 80.100382 \r\nL 26.925 10.025963 \r\n\" style=\"fill:none;stroke:#000000;stroke-linecap:square;stroke-linejoin:miter;stroke-width:0.8;\"/>\r\n   </g>\r\n   <g id=\"patch_4\">\r\n    <path d=\"M 361.725 80.100382 \r\nL 361.725 10.025963 \r\n\" style=\"fill:none;stroke:#000000;stroke-linecap:square;stroke-linejoin:miter;stroke-width:0.8;\"/>\r\n   </g>\r\n   <g id=\"patch_5\">\r\n    <path d=\"M 26.925 80.100382 \r\nL 361.725 80.100382 \r\n\" style=\"fill:none;stroke:#000000;stroke-linecap:square;stroke-linejoin:miter;stroke-width:0.8;\"/>\r\n   </g>\r\n   <g id=\"patch_6\">\r\n    <path d=\"M 26.925 10.025963 \r\nL 361.725 10.025963 \r\n\" style=\"fill:none;stroke:#000000;stroke-linecap:square;stroke-linejoin:miter;stroke-width:0.8;\"/>\r\n   </g>\r\n  </g>\r\n </g>\r\n <defs>\r\n  <clipPath id=\"p3da34f89d5\">\r\n   <rect height=\"70.074419\" width=\"334.8\" x=\"26.925\" y=\"10.025963\"/>\r\n  </clipPath>\r\n </defs>\r\n</svg>\r\n",
      "image/png": "[encoded data removed]"
     },
     "metadata": {
      "needs_background": "light"
     }
    },
    {
     "output_type": "stream",
     "name": "stdout",
     "text": [
      "GroundTruth:      7     2     1     0     4\nPredicted:      7     2     1     0     4\n"
     ]
    }
   ],
   "source": [
    "_, predicted = torch.max(outputs, 1)\n",
    "\n",
    "# 이미지를 출력합니다.\n",
    "imshow(torchvision.utils.make_grid(images.cpu()))\n",
    "print('GroundTruth: ', ' '.join('%5s' % int(labels[j]) for j in range(batch_size)))\n",
    "\n",
    "print('Predicted: ', ' '.join('%5s' % int(predicted[j]) for j in range(batch_size)))"
   ]
  },
  {
   "cell_type": "code",
   "execution_count": 80,
   "metadata": {},
   "outputs": [
    {
     "output_type": "stream",
     "name": "stdout",
     "text": [
      "Accuracy of the network on the 10000 test images: 98 %\n"
     ]
    }
   ],
   "source": [
    "correct = 0\n",
    "total = 0\n",
    "# 학습 중이 아니므로, 출력에 대한 변화도를 계산할 필요가 없습니다\n",
    "with torch.no_grad():\n",
    "    for data in testloader:\n",
    "        images, labels = data\n",
    "        images, labels = images.cuda(), labels.cuda()\n",
    "        # 신경망에 이미지를 통과시켜 출력을 계산합니다\n",
    "        outputs = leNet(images)\n",
    "        # 가장 높은 값(energy)를 갖는 분류(class)를 정답으로 선택하겠습니다\n",
    "        _, predicted = torch.max(outputs.data, 1)\n",
    "        total += labels.size(0)\n",
    "        correct += (predicted == labels).sum().item()\n",
    "\n",
    "print('Accuracy of the network on the 10000 test images: %d %%' % (\n",
    "    100 * correct / total))"
   ]
  },
  {
   "cell_type": "code",
   "execution_count": 91,
   "metadata": {},
   "outputs": [
    {
     "output_type": "stream",
     "name": "stdout",
     "text": [
      "Accuracy for class 0 is: 99.9 %\nAccuracy for class 1 is: 99.2 %\nAccuracy for class 2 is: 99.6 %\nAccuracy for class 3 is: 98.7 %\nAccuracy for class 4 is: 99.2 %\nAccuracy for class 5 is: 99.3 %\nAccuracy for class 6 is: 99.3 %\nAccuracy for class 7 is: 97.1 %\nAccuracy for class 8 is: 99.0 %\nAccuracy for class 9 is: 98.1 %\n"
     ]
    }
   ],
   "source": [
    "# 각 분류(class)에 대한 예측값 계산을 위해 준비\n",
    "correct_pred = {classname: 0 for classname in range(10)}\n",
    "total_pred = {classname: 0 for classname in range(10)}\n",
    "\n",
    "# 변화도는 여전히 필요하지 않습니다\n",
    "with torch.no_grad():\n",
    "    for data in testloader:\n",
    "        images, labels = data\n",
    "        images, labels = images.cuda(), labels.cuda()\n",
    "\n",
    "        outputs = leNet(images)\n",
    "        _, predictions = torch.max(outputs, 1)\n",
    "        # 각 분류별로 올바른 예측 수를 모읍니다\n",
    "        for label, prediction in zip(labels, predictions):\n",
    "            if label == prediction:\n",
    "                correct_pred[int(label)] += 1\n",
    "            total_pred[int(label)] += 1\n",
    "\n",
    "\n",
    "# 각 분류별 정확도(accuracy)를 출력합니다\n",
    "for classname, correct_count in correct_pred.items():\n",
    "    accuracy = 100 * float(correct_count) / total_pred[classname]\n",
    "    print(\"Accuracy for class {:d} is: {:.1f} %\".format(classname, accuracy))"
   ]
  }
 ]
}