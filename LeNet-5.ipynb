{
 "cells": [
  {
   "cell_type": "code",
   "execution_count": 1,
   "source": [
    "import os\r\n",
    "import torch\r\n",
    "import torchvision\r\n",
    "from torch import nn\r\n",
    "from torchvision import datasets, transforms\r\n",
    "\r\n",
    "import matplotlib.pyplot as plt\r\n",
    "import numpy as np"
   ],
   "outputs": [],
   "metadata": {}
  },
  {
   "cell_type": "code",
   "execution_count": 2,
   "source": [
    "device = 'cuda' if torch.cuda.is_available() else 'cpu'\r\n",
    "print('Using {} device'.format(device))"
   ],
   "outputs": [
    {
     "output_type": "stream",
     "name": "stdout",
     "text": [
      "Using cuda device\n"
     ]
    }
   ],
   "metadata": {}
  },
  {
   "cell_type": "code",
   "execution_count": 3,
   "source": [
    "transform = transforms.Compose(\r\n",
    "    [\r\n",
    "        transforms.Resize(32),\r\n",
    "        transforms.ToTensor(),\r\n",
    "    ]\r\n",
    ")\r\n",
    "\r\n",
    "batch_size = 5\r\n",
    "\r\n",
    "trainset = datasets.MNIST(root='./data', train=True, download=True, transform=transform)\r\n",
    "trainloader = torch.utils.data.DataLoader(trainset, batch_size=batch_size, shuffle=True, num_workers=2)\r\n",
    "\r\n",
    "testset = datasets.MNIST(root='./data', train=False, download=True, transform=transform)\r\n",
    "testloader = torch.utils.data.DataLoader(testset, batch_size=batch_size, shuffle=False, num_workers=2)"
   ],
   "outputs": [
    {
     "output_type": "stream",
     "name": "stderr",
     "text": [
      "0.0%"
     ]
    },
    {
     "output_type": "stream",
     "name": "stdout",
     "text": [
      "Downloading http://yann.lecun.com/exdb/mnist/train-images-idx3-ubyte.gz\n",
      "Downloading http://yann.lecun.com/exdb/mnist/train-images-idx3-ubyte.gz to ./data\\MNIST\\raw\\train-images-idx3-ubyte.gz\n"
     ]
    },
    {
     "output_type": "stream",
     "name": "stderr",
     "text": [
      "100.0%\n"
     ]
    },
    {
     "output_type": "stream",
     "name": "stdout",
     "text": [
      "Extracting ./data\\MNIST\\raw\\train-images-idx3-ubyte.gz to ./data\\MNIST\\raw\n"
     ]
    },
    {
     "output_type": "stream",
     "name": "stderr",
     "text": [
      "102.8%"
     ]
    },
    {
     "output_type": "stream",
     "name": "stdout",
     "text": [
      "\n",
      "Downloading http://yann.lecun.com/exdb/mnist/train-labels-idx1-ubyte.gz\n",
      "Downloading http://yann.lecun.com/exdb/mnist/train-labels-idx1-ubyte.gz to ./data\\MNIST\\raw\\train-labels-idx1-ubyte.gz\n",
      "Extracting ./data\\MNIST\\raw\\train-labels-idx1-ubyte.gz to ./data\\MNIST\\raw\n",
      "\n",
      "Downloading http://yann.lecun.com/exdb/mnist/t10k-images-idx3-ubyte.gz\n"
     ]
    },
    {
     "output_type": "stream",
     "name": "stderr",
     "text": [
      "\n",
      "13.8%"
     ]
    },
    {
     "output_type": "stream",
     "name": "stdout",
     "text": [
      "Downloading http://yann.lecun.com/exdb/mnist/t10k-images-idx3-ubyte.gz to ./data\\MNIST\\raw\\t10k-images-idx3-ubyte.gz\n"
     ]
    },
    {
     "output_type": "stream",
     "name": "stderr",
     "text": [
      "100.0%\n",
      "112.7%"
     ]
    },
    {
     "output_type": "stream",
     "name": "stdout",
     "text": [
      "Extracting ./data\\MNIST\\raw\\t10k-images-idx3-ubyte.gz to ./data\\MNIST\\raw\n",
      "\n",
      "Downloading http://yann.lecun.com/exdb/mnist/t10k-labels-idx1-ubyte.gz\n",
      "Downloading http://yann.lecun.com/exdb/mnist/t10k-labels-idx1-ubyte.gz to ./data\\MNIST\\raw\\t10k-labels-idx1-ubyte.gz\n",
      "Extracting ./data\\MNIST\\raw\\t10k-labels-idx1-ubyte.gz to ./data\\MNIST\\raw\n",
      "\n",
      "Processing...\n"
     ]
    },
    {
     "output_type": "stream",
     "name": "stderr",
     "text": [
      "\n",
      "C:\\Users\\lh122\\AppData\\Local\\Programs\\Python\\Python37\\lib\\site-packages\\torchvision\\datasets\\mnist.py:502: UserWarning: The given NumPy array is not writeable, and PyTorch does not support non-writeable tensors. This means you can write to the underlying (supposedly non-writeable) NumPy array using the tensor. You may want to copy the array to protect its data or make it writeable before converting it to a tensor. This type of warning will be suppressed for the rest of this program. (Triggered internally at  ..\\torch\\csrc\\utils\\tensor_numpy.cpp:143.)\n",
      "  return torch.from_numpy(parsed.astype(m[2], copy=False)).view(*s)\n"
     ]
    },
    {
     "output_type": "stream",
     "name": "stdout",
     "text": [
      "Done!\n"
     ]
    }
   ],
   "metadata": {}
  },
  {
   "cell_type": "code",
   "execution_count": 4,
   "source": [
    "def imshow(img):\r\n",
    "    img = img / 2 + 0.5\r\n",
    "    npimg = img.numpy()\r\n",
    "    plt.imshow(np.transpose(npimg, (1, 2, 0)))\r\n",
    "    plt.show()"
   ],
   "outputs": [],
   "metadata": {}
  },
  {
   "cell_type": "code",
   "execution_count": 5,
   "source": [
    "dataiter = iter(trainloader)\r\n",
    "images, labels = dataiter.next()\r\n",
    "\r\n",
    "imshow(torchvision.utils.make_grid(images))\r\n",
    "print(''.join('%5s' % int(labels[j]) for j in range(batch_size)))"
   ],
   "outputs": [
    {
     "output_type": "display_data",
     "data": {
      "image/png": "[encoded data removed]",
      "text/plain": [
       "<Figure size 432x288 with 1 Axes>"
      ]
     },
     "metadata": {
      "needs_background": "light"
     }
    },
    {
     "output_type": "stream",
     "name": "stdout",
     "text": [
      "    2    6    1    2    5\n"
     ]
    }
   ],
   "metadata": {}
  },
  {
   "cell_type": "code",
   "execution_count": 6,
   "source": [
    "images[0].shape"
   ],
   "outputs": [
    {
     "output_type": "execute_result",
     "data": {
      "text/plain": [
       "torch.Size([1, 32, 32])"
      ]
     },
     "metadata": {},
     "execution_count": 6
    }
   ],
   "metadata": {}
  },
  {
   "cell_type": "code",
   "execution_count": 7,
   "source": [
    "class LeNet5(nn.Module):\r\n",
    "    def __init__(self):\r\n",
    "        super(LeNet5, self).__init__()\r\n",
    "\r\n",
    "        self.features = nn.Sequential(\r\n",
    "            nn.Conv2d(in_channels=1, out_channels=6, kernel_size=(5, 5)),\r\n",
    "            nn.ReLU(inplace=True),\r\n",
    "            nn.MaxPool2d(kernel_size=(2, 2)),\r\n",
    "\r\n",
    "            nn.Conv2d(in_channels=6, out_channels=16, kernel_size=(5, 5)),\r\n",
    "            nn.ReLU(inplace=True),\r\n",
    "            nn.MaxPool2d(kernel_size=(2, 2)),\r\n",
    "\r\n",
    "            nn.Flatten(),\r\n",
    "\r\n",
    "            nn.Linear(16 * 5 * 5, 120),\r\n",
    "            nn.ReLU(inplace=True),\r\n",
    "\r\n",
    "            nn.Linear(120, 84),\r\n",
    "            nn.ReLU(inplace=True),\r\n",
    "            \r\n",
    "            nn.Linear(84, 10)\r\n",
    "        )\r\n",
    "\r\n",
    "    def forward(self, x):\r\n",
    "        x = self.features(x)\r\n",
    "        return x"
   ],
   "outputs": [],
   "metadata": {}
  },
  {
   "cell_type": "code",
   "execution_count": 8,
   "source": [
    "leNet = LeNet5()\r\n",
    "leNet.to(device)"
   ],
   "outputs": [
    {
     "output_type": "execute_result",
     "data": {
      "text/plain": [
       "LeNet5(\n",
       "  (features): Sequential(\n",
       "    (0): Conv2d(1, 6, kernel_size=(5, 5), stride=(1, 1))\n",
       "    (1): ReLU(inplace=True)\n",
       "    (2): MaxPool2d(kernel_size=(2, 2), stride=(2, 2), padding=0, dilation=1, ceil_mode=False)\n",
       "    (3): Conv2d(6, 16, kernel_size=(5, 5), stride=(1, 1))\n",
       "    (4): ReLU(inplace=True)\n",
       "    (5): MaxPool2d(kernel_size=(2, 2), stride=(2, 2), padding=0, dilation=1, ceil_mode=False)\n",
       "    (6): Flatten(start_dim=1, end_dim=-1)\n",
       "    (7): Linear(in_features=400, out_features=120, bias=True)\n",
       "    (8): ReLU(inplace=True)\n",
       "    (9): Linear(in_features=120, out_features=84, bias=True)\n",
       "    (10): ReLU(inplace=True)\n",
       "    (11): Linear(in_features=84, out_features=10, bias=True)\n",
       "  )\n",
       ")"
      ]
     },
     "metadata": {},
     "execution_count": 8
    }
   ],
   "metadata": {}
  },
  {
   "cell_type": "code",
   "execution_count": 17,
   "source": [
    "import torch.optim as optim\r\n",
    "\r\n",
    "criterion = nn.CrossEntropyLoss()\r\n",
    "optimizer = optim.SGD(leNet.parameters(), lr=0.001, momentum=0.9)"
   ],
   "outputs": [],
   "metadata": {}
  },
  {
   "cell_type": "code",
   "execution_count": 18,
   "source": [
    "minimum_updates = 1000\r\n",
    "minibatches_proccesed = 0\r\n",
    "best_model_loss = 1e20\r\n",
    "best_model_minibatch_time = 0\r\n",
    "isStop = False\r\n",
    "eval_interval = 1000\r\n",
    "PATH = './lenet.pth'\r\n",
    "\r\n",
    "epoch = 0\r\n",
    "while not isStop:\r\n",
    "    running_loss = 0.0\r\n",
    "    running_accuracy = 0.0\r\n",
    "\r\n",
    "    for i, data in enumerate(trainloader, 0):\r\n",
    "        # [inputs, labels]의 목록인 data로부터 입력을 받은 후;\r\n",
    "        # https://stackoverflow.com/questions/59013109/runtimeerror-input-type-torch-floattensor-and-weight-type-torch-cuda-floatte/59013131\r\n",
    "        inputs, labels = data\r\n",
    "        inputs, labels = inputs.cuda(), labels.cuda()\r\n",
    "\r\n",
    "        # 변화도(Gradient) 매개변수를 0으로 만들고\r\n",
    "        optimizer.zero_grad()\r\n",
    "        leNet.zero_grad()\r\n",
    "\r\n",
    "        # 순전파 + 역전파 + 최적화를 한 후\r\n",
    "        outputs = leNet(inputs)\r\n",
    "        loss = criterion(outputs, labels)\r\n",
    "        loss.backward()\r\n",
    "        optimizer.step()\r\n",
    "\r\n",
    "        # 통계를 출력합니다.\r\n",
    "        preds = torch.argmax(outputs.data, dim=1)\r\n",
    "\r\n",
    "        running_loss += loss.item()\r\n",
    "        running_accuracy += (labels == preds).float().mean()\r\n",
    "\r\n",
    "        minibatches_proccesed += 1\r\n",
    "\r\n",
    "        if minibatches_proccesed % eval_interval == (eval_interval - 1):\r\n",
    "            if running_loss < best_model_loss and (running_accuracy / eval_interval) >= 0.7:\r\n",
    "                best_model_loss = running_loss\r\n",
    "                best_model_minibatch_time = minibatches_proccesed\r\n",
    "                torch.save(leNet.state_dict(), PATH)\r\n",
    "\r\n",
    "            if minibatches_proccesed > minimum_updates and minibatches_proccesed >= best_model_minibatch_time + minimum_updates:\r\n",
    "                isStop = True\r\n",
    "\r\n",
    "            print('[%d, %5d] loss: %.3f, accuracy: %.3f' % (epoch + 1, minibatches_proccesed + 1, running_loss / eval_interval, running_accuracy / eval_interval))\r\n",
    "            running_loss = 0.0\r\n",
    "            running_accuracy = 0.0\r\n",
    "            \r\n",
    "    epoch += 1\r\n",
    "\r\n",
    "print('Finished Training')"
   ],
   "outputs": [
    {
     "output_type": "stream",
     "name": "stdout",
     "text": [
      "[1,  1000] loss: 2.255, accuracy: 0.246\n",
      "[1,  2000] loss: 0.717, accuracy: 0.766\n",
      "[1,  3000] loss: 0.339, accuracy: 0.888\n",
      "[1,  4000] loss: 0.244, accuracy: 0.923\n",
      "[1,  5000] loss: 0.204, accuracy: 0.937\n",
      "[1,  6000] loss: 0.176, accuracy: 0.947\n",
      "[1,  7000] loss: 0.154, accuracy: 0.951\n",
      "[1,  8000] loss: 0.130, accuracy: 0.959\n",
      "[1,  9000] loss: 0.131, accuracy: 0.959\n",
      "[1, 10000] loss: 0.131, accuracy: 0.960\n",
      "[1, 11000] loss: 0.098, accuracy: 0.970\n",
      "[1, 12000] loss: 0.107, accuracy: 0.966\n",
      "Finished Training\n"
     ]
    }
   ],
   "metadata": {
    "tags": []
   }
  },
  {
   "cell_type": "markdown",
   "source": [
    "# Validation\r\n",
    "\r\n",
    "---\r\n"
   ],
   "metadata": {}
  },
  {
   "cell_type": "code",
   "execution_count": 19,
   "source": [
    "dataiter = iter(testloader)\r\n",
    "images, labels = dataiter.next()"
   ],
   "outputs": [],
   "metadata": {}
  },
  {
   "cell_type": "code",
   "execution_count": 21,
   "source": [
    "PATH = './lenet.pth'\r\n",
    "leNet = LeNet5()\r\n",
    "leNet.load_state_dict(torch.load(PATH))\r\n",
    "leNet.to(device)"
   ],
   "outputs": [
    {
     "output_type": "execute_result",
     "data": {
      "text/plain": [
       "LeNet5(\n",
       "  (features): Sequential(\n",
       "    (0): Conv2d(1, 6, kernel_size=(5, 5), stride=(1, 1))\n",
       "    (1): ReLU(inplace=True)\n",
       "    (2): MaxPool2d(kernel_size=(2, 2), stride=(2, 2), padding=0, dilation=1, ceil_mode=False)\n",
       "    (3): Conv2d(6, 16, kernel_size=(5, 5), stride=(1, 1))\n",
       "    (4): ReLU(inplace=True)\n",
       "    (5): MaxPool2d(kernel_size=(2, 2), stride=(2, 2), padding=0, dilation=1, ceil_mode=False)\n",
       "    (6): Flatten(start_dim=1, end_dim=-1)\n",
       "    (7): Linear(in_features=400, out_features=120, bias=True)\n",
       "    (8): ReLU(inplace=True)\n",
       "    (9): Linear(in_features=120, out_features=84, bias=True)\n",
       "    (10): ReLU(inplace=True)\n",
       "    (11): Linear(in_features=84, out_features=10, bias=True)\n",
       "  )\n",
       ")"
      ]
     },
     "metadata": {},
     "execution_count": 21
    }
   ],
   "metadata": {}
  },
  {
   "cell_type": "code",
   "execution_count": 22,
   "source": [
    "outputs = leNet(images.cuda())"
   ],
   "outputs": [],
   "metadata": {}
  },
  {
   "cell_type": "code",
   "execution_count": 23,
   "source": [
    "_, predicted = torch.max(outputs, 1)\r\n",
    "\r\n",
    "# 이미지를 출력합니다.\r\n",
    "imshow(torchvision.utils.make_grid(images.cpu()))\r\n",
    "print('GroundTruth: ', ' '.join('%5s' % int(labels[j]) for j in range(batch_size)))\r\n",
    "\r\n",
    "print('Predicted: ', ' '.join('%5s' % int(predicted[j]) for j in range(batch_size)))"
   ],
   "outputs": [
    {
     "output_type": "display_data",
     "data": {
      "image/png": "[encoded data removed]",
      "text/plain": [
       "<Figure size 432x288 with 1 Axes>"
      ]
     },
     "metadata": {
      "needs_background": "light"
     }
    },
    {
     "output_type": "stream",
     "name": "stdout",
     "text": [
      "GroundTruth:      7     2     1     0     4\n",
      "Predicted:      7     2     1     0     4\n"
     ]
    }
   ],
   "metadata": {}
  },
  {
   "cell_type": "code",
   "execution_count": 24,
   "source": [
    "correct = 0\r\n",
    "total = 0\r\n",
    "# 학습 중이 아니므로, 출력에 대한 변화도를 계산할 필요가 없습니다\r\n",
    "with torch.no_grad():\r\n",
    "    for data in testloader:\r\n",
    "        images, labels = data\r\n",
    "        images, labels = images.cuda(), labels.cuda()\r\n",
    "        # 신경망에 이미지를 통과시켜 출력을 계산합니다\r\n",
    "        outputs = leNet(images)\r\n",
    "        # 가장 높은 값(energy)를 갖는 분류(class)를 정답으로 선택하겠습니다\r\n",
    "        _, predicted = torch.max(outputs.data, 1)\r\n",
    "        total += labels.size(0)\r\n",
    "        correct += (predicted == labels).sum().item()\r\n",
    "\r\n",
    "print('Accuracy of the network on the 10000 test images: %d %%' % (\r\n",
    "    100 * correct / total))"
   ],
   "outputs": [
    {
     "output_type": "stream",
     "name": "stdout",
     "text": [
      "Accuracy of the network on the 10000 test images: 97 %\n"
     ]
    }
   ],
   "metadata": {}
  },
  {
   "cell_type": "code",
   "execution_count": 25,
   "source": [
    "# 각 분류(class)에 대한 예측값 계산을 위해 준비\r\n",
    "correct_pred = {classname: 0 for classname in range(10)}\r\n",
    "total_pred = {classname: 0 for classname in range(10)}\r\n",
    "\r\n",
    "# 변화도는 여전히 필요하지 않습니다\r\n",
    "with torch.no_grad():\r\n",
    "    for data in testloader:\r\n",
    "        images, labels = data\r\n",
    "        images, labels = images.cuda(), labels.cuda()\r\n",
    "\r\n",
    "        outputs = leNet(images)\r\n",
    "        _, predictions = torch.max(outputs, 1)\r\n",
    "        # 각 분류별로 올바른 예측 수를 모읍니다\r\n",
    "        for label, prediction in zip(labels, predictions):\r\n",
    "            if label == prediction:\r\n",
    "                correct_pred[int(label)] += 1\r\n",
    "            total_pred[int(label)] += 1\r\n",
    "\r\n",
    "\r\n",
    "# 각 분류별 정확도(accuracy)를 출력합니다\r\n",
    "for classname, correct_count in correct_pred.items():\r\n",
    "    accuracy = 100 * float(correct_count) / total_pred[classname]\r\n",
    "    print(\"Accuracy for class {:d} is: {:.1f} %\".format(classname, accuracy))"
   ],
   "outputs": [
    {
     "output_type": "stream",
     "name": "stdout",
     "text": [
      "Accuracy for class 0 is: 98.5 %\n",
      "Accuracy for class 1 is: 99.4 %\n",
      "Accuracy for class 2 is: 95.7 %\n",
      "Accuracy for class 3 is: 94.6 %\n",
      "Accuracy for class 4 is: 97.8 %\n",
      "Accuracy for class 5 is: 98.0 %\n",
      "Accuracy for class 6 is: 97.7 %\n",
      "Accuracy for class 7 is: 97.6 %\n",
      "Accuracy for class 8 is: 97.2 %\n",
      "Accuracy for class 9 is: 97.4 %\n"
     ]
    }
   ],
   "metadata": {}
  }
 ],
 "metadata": {
  "interpreter": {
   "hash": "b6fc13361acf0b12431fe9017a645ee74a85b2a4555870e539f150a62ab2ea00"
  },
  "kernelspec": {
   "name": "python3",
   "display_name": "Python 3.7.9 64-bit"
  },
  "language_info": {
   "codemirror_mode": {
    "name": "ipython",
    "version": 3
   },
   "file_extension": ".py",
   "mimetype": "text/x-python",
   "name": "python",
   "nbconvert_exporter": "python",
   "pygments_lexer": "ipython3",
   "version": "3.7.9"
  },
  "orig_nbformat": 4
 },
 "nbformat": 4,
 "nbformat_minor": 2
}